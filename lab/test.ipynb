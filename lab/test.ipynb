{
 "cells": [
  {
   "cell_type": "markdown",
   "metadata": {},
   "source": [
    "# test"
   ]
  },
  {
   "cell_type": "code",
   "execution_count": null,
   "metadata": {},
   "outputs": [],
   "source": [
    "import math\n",
    "import numpy as np\n",
    "import collections\n",
    "\n",
    "\n",
    "def handle_struct_entropy(subject_dict):\n",
    "    \"\"\"结构熵\"\"\"\n",
    "\n",
    "    in_data = []\n",
    "    out_data = []\n",
    "    all_data = []\n",
    "    \n",
    "    for obj in subject_dict.values():\n",
    "        \n",
    "        if obj.get('i'):\n",
    "            in_data.append(len(obj['i']))\n",
    "            \n",
    "        if obj.get('o'):\n",
    "            out_data.append(len(obj['o']))\n",
    "        \n",
    "        cache = len(obj.get('i',set())) + len(obj.get('o',set()))\n",
    "        if cache:\n",
    "            all_data.append(cache)\n",
    "            \n",
    "    np_in = np.array(in_data)\n",
    "    np_out = np.array(out_data)\n",
    "    np_all = np.array(all_data)\n",
    "    \n",
    "#     print(np_in,np_out,np_all)\n",
    "    \n",
    "    f = np_in/np_in.sum()\n",
    "    a = (- f * np.log2(f)).sum()\n",
    "    \n",
    "    f = np_out/np_out.sum()\n",
    "    b = (- f * np.log2(f)).sum()\n",
    "    \n",
    "    f = np_all/np_all.sum()\n",
    "    c = (- f * np.log2(f)).sum()\n",
    "    \n",
    "    # E min\n",
    "    i_E_min = math.log2(4 * (len(np_in)-1))/2\n",
    "    o_E_min = math.log2(4 * (len(np_out)-1))/2\n",
    "    all_E_min = math.log2(4 * (len(np_all)-1))/2\n",
    "    \n",
    "    retin = (a - i_E_min) / ( math.log2(len(np_in)) - i_E_min)\n",
    "    retout = (b - o_E_min) / ( math.log2(len(np_out)) - o_E_min)\n",
    "    # retin = a /  math.log2(len(np_all))\n",
    "    # retout = b /  math.log2(len(np_all))\n",
    "    retall = (c - all_E_min) / (math.log2(len(np_all)) - all_E_min)\n",
    "\n",
    "    return retin,retout,retall,a,b,c,len(np_in),len(np_out),len(np_all)\n",
    "\n",
    "def handle_degree_distrubution_entropy(subject_dict):\n",
    "    '''度分布熵'''\n",
    "    \n",
    "    in_data = collections.defaultdict(int)\n",
    "    out_data = collections.defaultdict(int)\n",
    "    all_data = collections.defaultdict(int)\n",
    "    \n",
    "    for i,obj in subject_dict.items():\n",
    "        \n",
    "        in_data[len(obj['i'])] += 1\n",
    "            \n",
    "        out_data[len(obj['o'])] += 1\n",
    "        \n",
    "        cache = len(obj.get('i',set())) + len(obj.get('o',set()))\n",
    "        if cache > 0 :\n",
    "            all_data[cache] += 1\n",
    "             \n",
    "    np_in = np.array(list(in_data.values()))\n",
    "    np_out = np.array(list(out_data.values()))\n",
    "    np_all = np.array(list(all_data.values()))\n",
    "    \n",
    "    np_in = np_in / np_in.sum()\n",
    "    np_out = np_out / np_out.sum()\n",
    "    np_all = np_all / np_all.sum()\n",
    "    \n",
    "    ret_in = np.nansum( np_in *  np.log2( 1/np_in ) )\n",
    "    ret_out = np.nansum( np_out *  np.log2( 1/np_out ) )\n",
    "    ret_all = np.nansum( np_all *  np.log2( 1/np_all ) )\n",
    "    \n",
    "    \n",
    "    return {\n",
    "        'i':ret_in,\n",
    "        'o':ret_out,\n",
    "        'a':ret_all,\n",
    "    }\n",
    "\n",
    "def handle_entropy_value(edges):\n",
    "    \n",
    "    subject_dict = {}\n",
    "    for (node_in,node_out) in edges:\n",
    "        subject_dict.setdefault(node_in,{\n",
    "            'i': [],\n",
    "            'o':[]\n",
    "        })\n",
    "        subject_dict.setdefault(node_out,{\n",
    "            'i':[],\n",
    "            'o':[]\n",
    "        })\n",
    "        subject_dict[node_in]['o'].append(node_out)\n",
    "        subject_dict[node_out]['i'].append(node_in)\n",
    "        \n",
    "        \n",
    "    data0 = handle_degree_distrubution_entropy(subject_dict)\n",
    "    \n",
    "    data1 = handle_struct_entropy(subject_dict)\n",
    "    return (data0['i'],data0['o'], data0['a']),(data1[0],data1[1],data1[2],data1[3],data1[4],data1[5])\n"
   ]
  },
  {
   "cell_type": "code",
   "execution_count": 6,
   "metadata": {},
   "outputs": [
    {
     "data": {
      "text/plain": [
       "((np.float64(0.0), np.float64(0.0), np.float64(0.0)),\n",
       " (np.float64(1.0),\n",
       "  np.float64(1.0),\n",
       "  np.float64(1.0),\n",
       "  np.float64(2.321928094887362),\n",
       "  np.float64(2.321928094887362),\n",
       "  np.float64(2.321928094887362)))"
      ]
     },
     "execution_count": 6,
     "metadata": {},
     "output_type": "execute_result"
    }
   ],
   "source": [
    "\n",
    "handle_entropy_value([(1,2),(2,3),(3,4),(4,5),(5,1)])"
   ]
  },
  {
   "cell_type": "code",
   "execution_count": 15,
   "metadata": {},
   "outputs": [
    {
     "data": {
      "text/plain": [
       "((np.float64(2.0), np.float64(2.0), np.float64(0.0)),\n",
       " (np.float64(-0.4808248653936201),\n",
       "  np.float64(-0.4808248653936201),\n",
       "  np.float64(1.0),\n",
       "  np.float64(1.4591479170272448),\n",
       "  np.float64(1.4591479170272448),\n",
       "  np.float64(2.0)))"
      ]
     },
     "execution_count": 15,
     "metadata": {},
     "output_type": "execute_result"
    }
   ],
   "source": [
    "\n",
    "# handle_entropy_value([(1,2),(1,3),(1,4),(1,5),(6,1)])\n",
    "handle_entropy_value([(1,2),(1,3),(4,1),(2,3),(4,2),(4,3)])"
   ]
  },
  {
   "cell_type": "code",
   "execution_count": 17,
   "metadata": {},
   "outputs": [],
   "source": [
    "# !pip install networkx"
   ]
  },
  {
   "cell_type": "code",
   "execution_count": 18,
   "metadata": {},
   "outputs": [],
   "source": [
    "# import graph_tool.all as gt"
   ]
  },
  {
   "cell_type": "code",
   "execution_count": 27,
   "metadata": {},
   "outputs": [],
   "source": [
    "import networkx as nx\n",
    "import matplotlib.pyplot as plt\n",
    "\n",
    "# 设置网络中的节点数和每个新节点连接的节点数\n",
    "# n = 9  # 节点数\n",
    "# m = 3    # 每个新节点连接的节点数\n",
    "# BA_graph = nx.barabasi_albert_graph(n, m)\n",
    "\n",
    "# 将无向图转换为有向图\n",
    "# BA_directed = BA_graph.to_directed()\n",
    "\n",
    "# 可视化有向网络\n",
    "# pos = nx.spring_layout(BA_directed)  # 为有向图设置布局\n",
    "# nx.draw(BA_directed, pos, with_labels=False, node_size=30, arrowstyle='-|>', arrowsize=10)\n",
    "# plt.show()"
   ]
  },
  {
   "cell_type": "code",
   "execution_count": 2,
   "metadata": {},
   "outputs": [
    {
     "data": {
      "text/plain": [
       "((np.float64(1.75),\n",
       "  np.float64(0.5435644431995963),\n",
       "  np.float64(1.5487949406953985)),\n",
       " (np.float64(0.24041077205417438),\n",
       "  np.float64(1.0),\n",
       "  np.float64(0.586523068142618),\n",
       "  np.float64(1.8423709931771084),\n",
       "  np.float64(2.807354922057604),\n",
       "  np.float64(2.753434386188785)))"
      ]
     },
     "execution_count": 2,
     "metadata": {},
     "output_type": "execute_result"
    }
   ],
   "source": [
    "# test\n",
    "\n",
    "edges = [\n",
    "    (0, 1), (1, 2), (2, 1), (3, 4), (4, 5), (6, 4), (7, 4)\n",
    "]\n",
    "handle_entropy_value(edges)"
   ]
  },
  {
   "cell_type": "code",
   "execution_count": 98,
   "metadata": {},
   "outputs": [],
   "source": [
    "import random\n",
    "def generate_directed_BA(n, m):\n",
    "    # 初始化有向图，并添加初始的 m+1 个节点\n",
    "    G = nx.DiGraph()\n",
    "    for i in range(m + 1):\n",
    "        G.add_node(i)\n",
    "    \n",
    "    # 手动为初始节点添加边，确保它们之间有 m 条边\n",
    "    for i in range(m + 1):\n",
    "        targets = random.sample([node for node in G.nodes if node != i], m)\n",
    "        for target in targets:\n",
    "            G.add_edge(i, target)\n",
    "    \n",
    "    # 继续添加节点，每个新节点添加 m 条边，遵循优先连接机制\n",
    "    for new_node in range(m + 1, n):\n",
    "        G.add_node(new_node)\n",
    "        targets = random.choices(list(G.nodes), weights=[G.in_degree(node) + 1 for node in G.nodes], k=m)\n",
    "        for target in targets:\n",
    "            G.add_edge(new_node, target)\n",
    "    \n",
    "    return G"
   ]
  },
  {
   "cell_type": "code",
   "execution_count": 109,
   "metadata": {},
   "outputs": [
    {
     "data": {
      "text/plain": [
       "((np.float64(2.1113354271948586),\n",
       "  np.float64(0.18426059333965505),\n",
       "  np.float64(2.1723757482335913)),\n",
       " (np.float64(0.5207725152008894),\n",
       "  np.float64(0.9982373500071005),\n",
       "  np.float64(0.7713732561824773),\n",
       "  np.float64(6.295257905942307),\n",
       "  np.float64(8.959642619339371),\n",
       "  np.float64(8.16917182614467)))"
      ]
     },
     "execution_count": 109,
     "metadata": {},
     "output_type": "execute_result"
    }
   ],
   "source": [
    "\n",
    "n = 500  # 节点数\n",
    "m = 2    # 每个新节点连接的节点数\n",
    "BA_graph = generate_directed_BA(n, m)\n",
    "handle_entropy_value(BA_graph.edges())"
   ]
  }
 ],
 "metadata": {
  "kernelspec": {
   "display_name": "base",
   "language": "python",
   "name": "python3"
  },
  "language_info": {
   "codemirror_mode": {
    "name": "ipython",
    "version": 3
   },
   "file_extension": ".py",
   "mimetype": "text/x-python",
   "name": "python",
   "nbconvert_exporter": "python",
   "pygments_lexer": "ipython3",
   "version": "3.9.7"
  }
 },
 "nbformat": 4,
 "nbformat_minor": 2
}
